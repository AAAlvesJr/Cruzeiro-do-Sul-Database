{
 "cells": [
  {
   "cell_type": "code",
   "execution_count": null,
   "id": "014f510d-9128-48f1-85b1-409b70639efa",
   "metadata": {},
   "outputs": [],
   "source": [
    "from larch.io import read_xdi\n",
    "a = read_xdi('MnO_r.txt')\n",
    "print(a.energy)\n",
    "[6520.003 6521.001 6522.    6523.    6523.999 6524.999 6525.999 6527.\n",
    " 6528.    6529.002 6530.003 6531.006 6532.008 6533.011 6534.014 6535.017..."
   ]
  }
 ],
 "metadata": {
  "kernelspec": {
   "display_name": "ilumpy",
   "language": "python",
   "name": "ilumpy"
  },
  "language_info": {
   "codemirror_mode": {
    "name": "ipython",
    "version": 3
   },
   "file_extension": ".py",
   "mimetype": "text/x-python",
   "name": "python",
   "nbconvert_exporter": "python",
   "pygments_lexer": "ipython3",
   "version": "3.10.8"
  }
 },
 "nbformat": 4,
 "nbformat_minor": 5
}
