{
 "cells": [
  {
   "cell_type": "code",
   "execution_count": 5,
   "id": "041af3e5-baa3-4199-9b03-24a7e1c050ad",
   "metadata": {},
   "outputs": [],
   "source": [
    "import sqlite3\n",
    " \n",
    "connection = sqlite3.connect('db.sqlite3')\n",
    "cursor = connection.cursor()\n",
    "\n",
    "cursor.execute(\"INSERT INTO database_experiment (experiment_type, experiment_title, xdi_file, additional_info, doi, user_id, xdi_file,element_symbol, element_edge, mono_d_spacing, mono_name, sample_formula, sample_name, sample_prep, sample_temperature, sample_reference, detector_I0, detector_I1, detector_I2, facility_Name, beamline_xray_source, beamline_Storage_Ring_Current, beamline_I0, beamline_I1, scan_start_time, scan_end_time, scanParameters_Start, scanParameters_ScanType, scanParameters_E0, scanParameters_Legend, scanParameters_Region1, scanParameters_Region2, scanParameters_Region3, scanParameters_End, tabela) VALUES ()\")\n",
    " \n",
    "connection.commit()\n",
    "connection.close()"
   ]
  },
  {
   "cell_type": "code",
   "execution_count": null,
   "id": "df1c13b3-9ca9-4b92-8203-28d66fb81d88",
   "metadata": {},
   "outputs": [],
   "source": []
  }
 ],
 "metadata": {
  "kernelspec": {
   "display_name": "Python 3 (ipykernel)",
   "language": "python",
   "name": "python3"
  },
  "language_info": {
   "codemirror_mode": {
    "name": "ipython",
    "version": 3
   },
   "file_extension": ".py",
   "mimetype": "text/x-python",
   "name": "python",
   "nbconvert_exporter": "python",
   "pygments_lexer": "ipython3",
   "version": "3.10.12"
  }
 },
 "nbformat": 4,
 "nbformat_minor": 5
}
